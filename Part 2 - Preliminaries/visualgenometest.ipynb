{
 "cells": [
  {
   "cell_type": "code",
   "execution_count": 1,
   "id": "7e9e8e02-1a20-4a93-9ff5-f41732b6aaa8",
   "metadata": {},
   "outputs": [
    {
     "ename": "SyntaxError",
     "evalue": "invalid syntax (3018669730.py, line 2)",
     "output_type": "error",
     "traceback": [
      "\u001b[0;36m  Cell \u001b[0;32mIn[1], line 2\u001b[0;36m\u001b[0m\n\u001b[0;31m    ./visual_genome/data/getImageData.sh\u001b[0m\n\u001b[0m    ^\u001b[0m\n\u001b[0;31mSyntaxError\u001b[0m\u001b[0;31m:\u001b[0m invalid syntax\n"
     ]
    }
   ],
   "source": [
    "# Done in Terminal\n",
    "# Directory excluded from cloud GitHub repo, this is used to download Visual Genome data: https://github.com/ranjaykrishna/visual_genome_python_driver\n",
    "# Download all the image data.\n",
    "#./getImageData.sh\n",
    "\n",
    "# Download all the region descriptions.\n",
    "#./getRegionDescriptions.sh\n",
    "\n",
    "# Download all the question answers.\n",
    "#./getQuestionAnswers.sh"
   ]
  },
  {
   "cell_type": "code",
   "execution_count": null,
   "id": "f0e2a112-b876-42b9-beab-8e8d3eea1a2d",
   "metadata": {},
   "outputs": [],
   "source": []
  }
 ],
 "metadata": {
  "kernelspec": {
   "display_name": "Python 3 (ipykernel)",
   "language": "python",
   "name": "python3"
  },
  "language_info": {
   "codemirror_mode": {
    "name": "ipython",
    "version": 3
   },
   "file_extension": ".py",
   "mimetype": "text/x-python",
   "name": "python",
   "nbconvert_exporter": "python",
   "pygments_lexer": "ipython3",
   "version": "3.10.12"
  }
 },
 "nbformat": 4,
 "nbformat_minor": 5
}
