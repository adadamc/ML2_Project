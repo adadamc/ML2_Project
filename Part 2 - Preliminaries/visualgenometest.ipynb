{
 "cells": [
  {
   "cell_type": "code",
   "execution_count": 68,
   "id": "7e9e8e02-1a20-4a93-9ff5-f41732b6aaa8",
   "metadata": {},
   "outputs": [],
   "source": [
    "import matplotlib.pyplot as plt\n",
    "from matplotlib.patches import Rectangle\n",
    "from visual_genome import local as vg\n",
    "from PIL import Image as PIL_Image\n",
    "import requests\n",
    "from io import StringIO"
   ]
  },
  {
   "cell_type": "code",
   "execution_count": 69,
   "id": "f0e2a112-b876-42b9-beab-8e8d3eea1a2d",
   "metadata": {},
   "outputs": [
    {
     "name": "stdout",
     "output_type": "stream",
     "text": [
      "id: 1, coco_id: -1, flickr_id: -1, width: 800, url: https://cs.stanford.edu/people/rak248/VG_100K_2/1.jpg\n"
     ]
    }
   ],
   "source": [
    "ids = vg.get_all_image_data(\"/mnt/c/Users/adam/OneDrive/Documents/Github/ML2_Project/ML2_Project/Part 2 - Preliminaries/VisualGenome-Test/visual_genome/data/annotations\")\n",
    "#ids = vg.get_all_image_data()\n",
    "print(ids[0])"
   ]
  },
  {
   "cell_type": "code",
   "execution_count": null,
   "id": "992692c4-0d66-4759-89b7-9fd75c2d1727",
   "metadata": {},
   "outputs": [],
   "source": []
  }
 ],
 "metadata": {
  "kernelspec": {
   "display_name": "Python 3 (ipykernel)",
   "language": "python",
   "name": "python3"
  },
  "language_info": {
   "codemirror_mode": {
    "name": "ipython",
    "version": 3
   },
   "file_extension": ".py",
   "mimetype": "text/x-python",
   "name": "python",
   "nbconvert_exporter": "python",
   "pygments_lexer": "ipython3",
   "version": "3.10.12"
  }
 },
 "nbformat": 4,
 "nbformat_minor": 5
}
