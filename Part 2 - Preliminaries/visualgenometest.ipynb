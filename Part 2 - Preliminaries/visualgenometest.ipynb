{
 "cells": [
  {
   "cell_type": "markdown",
   "id": "7fa80a08-7ce0-4a77-8822-61fba4498858",
   "metadata": {},
   "source": [
    "### Visual Genome Dataset Test\n",
    "Note: The provided example (https://github.com/ranjaykrishna/visual_genome_python_driver/blob/master/region_visualization_demo.ipynb) uses the api which was discontinued in 2023. I have modified the example code slightly to pull data using the local version."
   ]
  },
  {
   "cell_type": "code",
   "execution_count": 99,
   "id": "7e9e8e02-1a20-4a93-9ff5-f41732b6aaa8",
   "metadata": {},
   "outputs": [],
   "source": [
    "import matplotlib.pyplot as plt\n",
    "from matplotlib.patches import Rectangle\n",
    "from visual_genome import local as vg\n",
    "from PIL import Image as PIL_Image\n",
    "import requests\n",
    "from io import StringIO"
   ]
  },
  {
   "cell_type": "code",
   "execution_count": 100,
   "id": "f0e2a112-b876-42b9-beab-8e8d3eea1a2d",
   "metadata": {},
   "outputs": [
    {
     "name": "stdout",
     "output_type": "stream",
     "text": [
      "id: 1, coco_id: -1, flickr_id: -1, width: 800, url: https://cs.stanford.edu/people/rak248/VG_100K_2/1.jpg\n",
      "1\n",
      "https://cs.stanford.edu/people/rak248/VG_100K_2/1.jpg\n"
     ]
    }
   ],
   "source": [
    "ids = vg.get_all_image_data(\"/mnt/c/Users/adam/OneDrive/Documents/Github/ML2_Project/ML2_Project/Part 2 - Preliminaries/VisualGenome-Test/visual_genome/data/annotations\")\n",
    "#ids = vg.get_all_image_data()\n",
    "print(ids[0]) # print 1st image info\n",
    "print(ids[0].id) # print 1st image id only\n",
    "print(ids[0].url) # print 1st image url only"
   ]
  },
  {
   "cell_type": "code",
   "execution_count": 101,
   "id": "992692c4-0d66-4759-89b7-9fd75c2d1727",
   "metadata": {},
   "outputs": [
    {
     "name": "stdout",
     "output_type": "stream",
     "text": [
      "The first region description is:  the clock is green in colour\n",
      "It is located in a bounding box specified by x:421, y:57, width:82, height:139\n"
     ]
    }
   ],
   "source": [
    "regions = vg.get_all_region_descriptions(\"/mnt/c/Users/adam/OneDrive/Documents/Github/ML2_Project/ML2_Project/Part 2 - Preliminaries/VisualGenome-Test/visual_genome/data/annotations\")\n",
    "print(\"The first region description is: \", regions[0][0].phrase) # first 0 means first image, second 0 means first region description\n",
    "print(\"It is located in a bounding box specified by x:%d, y:%d, width:%d, height:%d\" % (regions[0][0].x, regions[0][0].y, regions[0][0].width, regions[0][0].height))"
   ]
  },
  {
   "cell_type": "code",
   "execution_count": null,
   "id": "664e61b6-31d7-4433-8ce4-25e3b0f8807c",
   "metadata": {},
   "outputs": [],
   "source": []
  }
 ],
 "metadata": {
  "kernelspec": {
   "display_name": "Python 3 (ipykernel)",
   "language": "python",
   "name": "python3"
  },
  "language_info": {
   "codemirror_mode": {
    "name": "ipython",
    "version": 3
   },
   "file_extension": ".py",
   "mimetype": "text/x-python",
   "name": "python",
   "nbconvert_exporter": "python",
   "pygments_lexer": "ipython3",
   "version": "3.10.12"
  }
 },
 "nbformat": 4,
 "nbformat_minor": 5
}
