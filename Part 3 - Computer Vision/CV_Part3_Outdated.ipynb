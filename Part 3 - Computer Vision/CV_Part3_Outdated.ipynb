{
 "cells": [
  {
   "cell_type": "markdown",
   "id": "3d88253c-cb63-4f13-b8f9-cc9b537c66f8",
   "metadata": {},
   "source": [
    "# Part 3: Computer Vision"
   ]
  },
  {
   "cell_type": "markdown",
   "id": "9a3219a9-3378-4c7a-a5bc-13e88dc99b6b",
   "metadata": {},
   "source": [
    "Set up GPU enviornment using this guide: https://saturncloud.io/blog/how-to-run-jupyter-notebook-on-gpus/"
   ]
  },
  {
   "cell_type": "markdown",
   "id": "daba2dd7-0a79-42e0-943e-ca471e5a1281",
   "metadata": {},
   "source": [
    "# Imports"
   ]
  },
  {
   "cell_type": "code",
   "execution_count": 1,
   "id": "95d96707-e107-48e8-8b80-8019763398e9",
   "metadata": {},
   "outputs": [],
   "source": [
    "import torch\n",
    "\n",
    "import matplotlib.pyplot as plt\n",
    "from matplotlib.patches import Rectangle\n",
    "from visual_genome import local as vg\n",
    "from PIL import Image as PIL_Image\n",
    "import requests\n",
    "from io import StringIO\n",
    "from io import BytesIO\n",
    "%matplotlib inline"
   ]
  },
  {
   "cell_type": "code",
   "execution_count": 2,
   "id": "91e0fc6b-98e9-4b09-b4f6-15af438daa90",
   "metadata": {},
   "outputs": [
    {
     "name": "stderr",
     "output_type": "stream",
     "text": [
      "***Python 3.8 Deprecation Notice***\n",
      "Python 3.8 will no longer be supported in new releases after October 1, 2024.\n",
      "Please upgrade to Python 3.9 or later.\n",
      "For additional details please see https://deprecation.voxel51.com\n"
     ]
    }
   ],
   "source": [
    "import fiftyone as fo\n",
    "import fiftyone.zoo as foz"
   ]
  },
  {
   "cell_type": "markdown",
   "id": "91fad0d9-ac28-4330-929c-331ac68f894a",
   "metadata": {},
   "source": [
    "Checking GPU is being used"
   ]
  },
  {
   "cell_type": "code",
   "execution_count": 3,
   "id": "22a59fbf-5a91-4676-9984-7590fcbb774b",
   "metadata": {},
   "outputs": [
    {
     "data": {
      "text/plain": [
       "True"
      ]
     },
     "execution_count": 3,
     "metadata": {},
     "output_type": "execute_result"
    }
   ],
   "source": [
    "torch.cuda.is_available()"
   ]
  },
  {
   "cell_type": "code",
   "execution_count": 4,
   "id": "02b5697c-2fa2-4a49-8abf-007e80b34500",
   "metadata": {},
   "outputs": [
    {
     "name": "stdout",
     "output_type": "stream",
     "text": [
      "WARNING  Python>=3.10 is required, but Python==3.8.20 is currently installed \n"
     ]
    },
    {
     "name": "stderr",
     "output_type": "stream",
     "text": [
      "Using cache found in C:\\Users\\adam/.cache\\torch\\hub\\ultralytics_yolov5_master\n",
      "YOLOv5  2024-10-20 Python-3.8.20 torch-2.4.1 CUDA:0 (NVIDIA GeForce RTX 4080, 16376MiB)\n",
      "\n",
      "Fusing layers... \n",
      "YOLOv5s summary: 213 layers, 7225885 parameters, 0 gradients, 16.4 GFLOPs\n",
      "Adding AutoShape... \n"
     ]
    }
   ],
   "source": [
    "# Model (YOLO v5)\n",
    "model = torch.hub.load(\"ultralytics/yolov5\", \"yolov5s\")  # or yolov5n - yolov5x6, custom"
   ]
  },
  {
   "cell_type": "markdown",
   "id": "8a095533-4eec-4dc8-bc13-3af09d44bf85",
   "metadata": {},
   "source": [
    "# Testing Visual Genome Dataset"
   ]
  },
  {
   "cell_type": "code",
   "execution_count": 5,
   "id": "8e6b39ae-fb34-43ea-97d5-878bd9828844",
   "metadata": {},
   "outputs": [
    {
     "name": "stdout",
     "output_type": "stream",
     "text": [
      "id: 1, coco_id: -1, flickr_id: -1, width: 800, url: https://cs.stanford.edu/people/rak248/VG_100K_2/1.jpg\n"
     ]
    }
   ],
   "source": [
    "ids = vg.get_all_image_data(\"VisualGenome-Test/visual_genome/data/annotations\")\n",
    "image = ids[0]\n",
    "print(ids[0]) # print 1st image info"
   ]
  },
  {
   "cell_type": "code",
   "execution_count": 6,
   "id": "b49473c3-baf7-4a6c-92ac-05549ba9d911",
   "metadata": {},
   "outputs": [
    {
     "name": "stdout",
     "output_type": "stream",
     "text": [
      "The first region description is:  the clock is green in colour\n",
      "It is located in a bounding box specified by x:421, y:57, width:82, height:139\n"
     ]
    }
   ],
   "source": [
    "regions = vg.get_all_region_descriptions(\"VisualGenome-Test/visual_genome/data/annotations\")\n",
    "print(\"The first region description is: \", regions[0][0].phrase) # first 0 means first image, second 0 means first region description\n",
    "print(\"It is located in a bounding box specified by x:%d, y:%d, width:%d, height:%d\" % (regions[0][0].x, regions[0][0].y, regions[0][0].width, regions[0][0].height))"
   ]
  },
  {
   "cell_type": "code",
   "execution_count": 7,
   "id": "6e701276-2d3d-44bb-8501-c5bfd515ec8b",
   "metadata": {},
   "outputs": [],
   "source": [
    "fig = plt.gcf()\n",
    "fig.set_size_inches(18.5, 10.5)\n",
    "def visualize_regions(image, regions):\n",
    "    response = requests.get(image.url)\n",
    "    img = PIL_Image.open(BytesIO(response.content))\n",
    "    plt.imshow(img)\n",
    "    ax = plt.gca()\n",
    "    for region in regions:\n",
    "        ax.add_patch(Rectangle((region.x, region.y),\n",
    "                               region.width,\n",
    "                               region.height,\n",
    "                               fill=False,\n",
    "                               edgecolor='red',\n",
    "                               linewidth=3))\n",
    "        ax.text(region.x, region.y, region.phrase, style='italic', bbox={'facecolor':'white', 'alpha':0.7, 'pad':10})\n",
    "    fig = plt.gcf()\n",
    "    plt.tick_params(labelbottom='off', labelleft='off')\n",
    "    plt.title(\"Image 1 (limited to first 8 regions)\")\n",
    "    plt.show()"
   ]
  },
  {
   "cell_type": "code",
   "execution_count": 8,
   "id": "a9292ed1-84ae-43e6-bc93-2694f8726ea5",
   "metadata": {},
   "outputs": [],
   "source": [
    "visualize_regions(image, regions[0][:8]) # for image 1 (index 0), show first 8 regions"
   ]
  },
  {
   "cell_type": "code",
   "execution_count": 9,
   "id": "89bc31bd-f0f0-4865-8316-70fc0c5c27cf",
   "metadata": {},
   "outputs": [],
   "source": [
    "regions = vg.get_all_region_descriptions(\"VisualGenome-Test/visual_genome/data/annotations\")"
   ]
  },
  {
   "cell_type": "markdown",
   "id": "d81e6a66-dcb5-4a34-8ee2-7b873cbba6eb",
   "metadata": {},
   "source": [
    "# Extracting Classes from Dataset"
   ]
  },
  {
   "cell_type": "code",
   "execution_count": 10,
   "id": "80b53fb3-21a2-4c2e-923d-55f46f4f4eff",
   "metadata": {},
   "outputs": [],
   "source": [
    "import json"
   ]
  },
  {
   "cell_type": "markdown",
   "id": "5eb0f1bf-b112-4197-8caa-c862c6f3fbe3",
   "metadata": {},
   "source": [
    "## Sample: Getting a set of objects that contains every possible class"
   ]
  },
  {
   "cell_type": "code",
   "execution_count": 11,
   "id": "011e71c6-e930-4b7f-98db-7afffd611b1a",
   "metadata": {},
   "outputs": [
    {
     "name": "stdout",
     "output_type": "stream",
     "text": [
      "Reached image 10000  - Stopping here\n",
      "Classes length (appear 1+ time): 12244\n"
     ]
    }
   ],
   "source": [
    "classes = dict()\n",
    "num_images = 10000 # Only go up to this image id\n",
    "# classes.add(\"\") len(classes)\n",
    "\n",
    "input_json=open(\"VisualGenome-Test/visual_genome/data/annotations/objects.json\")\n",
    "loading = json.load(input_json)\n",
    "x = 0\n",
    "for data in loading:\n",
    "    x += 1\n",
    "    objs = data.get(\"objects\")\n",
    "    for i in objs:\n",
    "        #print(\"Classes length:\", len(classes), \" | adding now: \", i.get(\"names\")[0])\n",
    "        classes[i.get(\"names\")[0]] = classes.get(i.get(\"names\")[0], 0) + 1\n",
    "    if x >= num_images:\n",
    "        print(\"Reached image\", x, \" - Stopping here\")\n",
    "        break\n",
    "        \n",
    "\n",
    "print(\"Classes length (appear 1+ time):\", len(classes))"
   ]
  },
  {
   "cell_type": "markdown",
   "id": "1fbce249-12ef-4d11-976d-e4c74f653206",
   "metadata": {},
   "source": [
    "## Write to text file"
   ]
  },
  {
   "cell_type": "markdown",
   "id": "9ce9c91b-fe89-4837-a321-1cad04ba123d",
   "metadata": {},
   "source": [
    "Only including entries that appear multiple times (ex. 5) to get rid of most duplicates (spelling errors) or very specific entries"
   ]
  },
  {
   "cell_type": "code",
   "execution_count": 12,
   "id": "c15dbac2-7ed3-46e9-830b-54c1bd699590",
   "metadata": {},
   "outputs": [],
   "source": [
    "empty_list = open('vis_genome_classes.txt', 'w').close() # Clearing any old text in the text file"
   ]
  },
  {
   "cell_type": "code",
   "execution_count": 13,
   "id": "25fde972-a6da-465e-86c8-c3d52bbd8eb8",
   "metadata": {},
   "outputs": [
    {
     "name": "stdout",
     "output_type": "stream",
     "text": [
      "Classes that appear 5 + times: 2470\n"
     ]
    }
   ],
   "source": [
    "class_list = open('vis_genome_classes.txt', 'a')\n",
    "class_count = 0\n",
    "min_appear = 5\n",
    "\n",
    "for key in classes:\n",
    "    if classes[key] >= min_appear: # Only including classes that appear 3+ times\n",
    "        class_list.write(key + '\\n')\n",
    "        class_count += 1\n",
    "\n",
    "class_list.close()\n",
    "print(\"Classes that appear\", min_appear, \"+ times:\", class_count)"
   ]
  },
  {
   "cell_type": "markdown",
   "id": "f8ad8e5e-3c38-457b-8de7-bfce2f375c69",
   "metadata": {},
   "source": [
    "# Testing FiftyOne (https://docs.voxel51.com/index.html)"
   ]
  },
  {
   "cell_type": "markdown",
   "id": "4301e513-6027-422d-8ac6-9266cbda74fd",
   "metadata": {},
   "source": [
    "# Testing AlexNet"
   ]
  },
  {
   "cell_type": "code",
   "execution_count": 14,
   "id": "37288212-d8aa-4221-9a77-16d96f7bb32f",
   "metadata": {},
   "outputs": [],
   "source": [
    "from torchvision import models # Pre-trained models\n",
    "from torchvision import transforms # Image pre-processing\n",
    "import torch\n",
    "from PIL import Image # Import Pillow\n",
    "from torchvision.models import AlexNet_Weights\n",
    "from torchvision.models import ResNet152_Weights"
   ]
  },
  {
   "cell_type": "code",
   "execution_count": null,
   "id": "4a7fa149-63a2-4a8e-ac56-180b7015829d",
   "metadata": {},
   "outputs": [],
   "source": [
    "resnet = models.re"
   ]
  }
 ],
 "metadata": {
  "kernelspec": {
   "display_name": "Python (GPU)",
   "language": "python",
   "name": "gpu_env"
  },
  "language_info": {
   "codemirror_mode": {
    "name": "ipython",
    "version": 3
   },
   "file_extension": ".py",
   "mimetype": "text/x-python",
   "name": "python",
   "nbconvert_exporter": "python",
   "pygments_lexer": "ipython3",
   "version": "3.8.20"
  }
 },
 "nbformat": 4,
 "nbformat_minor": 5
}
